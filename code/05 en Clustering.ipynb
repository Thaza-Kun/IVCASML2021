{
 "cells": [
  {
   "cell_type": "markdown",
   "source": [
    "# 05 Clustering\r\n",
    "Author: Murthadza bin Aznam <br>\r\n",
    "Date: 9th August 2021<br>\r\n",
    "\r\n",
    "This Notebook is written as part of the International Virtual Conference on Astrostatistics and Machine Learning (IVCASML2021) course.\r\n",
    "\r\n",
    "---"
   ],
   "metadata": {}
  },
  {
   "cell_type": "markdown",
   "source": [
    "## 0.0 GOAL\r\n",
    "1. Determine the members of a cluster using HDBSCAN\r\n",
    "\r\n",
    "---\r\n",
    "---\r\n",
    "# ! WARNING !\r\n",
    "This interactive notebook is heavy. It will significantly slow down as the notebook progresses. I suspect it is because of the sheer volume of data that it needs to manage. Therefore, I have scatter a couple of `del` commands to delete unnecessary data. However, it is still heavy.\r\n",
    "\r\n",
    "---\r\n",
    "---"
   ],
   "metadata": {}
  },
  {
   "cell_type": "markdown",
   "source": [
    "## 1 PREPARATION\r\n",
    "### 1.1 PREPARATION: Importing packages"
   ],
   "metadata": {}
  },
  {
   "cell_type": "code",
   "execution_count": null,
   "source": [
    "import math\r\n",
    "import matplotlib.pyplot as plt\r\n",
    "\r\n",
    "import numpy as np\r\n",
    "import pandas as pd\r\n",
    "\r\n",
    "import hdbscan\r\n",
    "from sklearn.preprocessing import StandardScaler"
   ],
   "outputs": [],
   "metadata": {
    "executionInfo": {
     "elapsed": 1366,
     "status": "ok",
     "timestamp": 1628449388421,
     "user": {
      "displayName": "Committee IVC",
      "photoUrl": "",
      "userId": "13628960453021935908"
     },
     "user_tz": -420
    },
    "id": "7HA2pYphdl0q"
   }
  },
  {
   "cell_type": "markdown",
   "source": [
    "### 1.2 PREPARATION: Set some plotting configurations"
   ],
   "metadata": {
    "id": "7JAT-qyRhCHs"
   }
  },
  {
   "cell_type": "code",
   "execution_count": null,
   "source": [
    "SMALL_SIZE = 12\r\n",
    "MEDIUM_SIZE = 14\r\n",
    "BIGGER_SIZE = 20\r\n",
    "\r\n",
    "plt.rc('font', size=SMALL_SIZE)          # controls default text sizes\r\n",
    "plt.rc('axes', titlesize=SMALL_SIZE)     # fontsize of the axes title\r\n",
    "plt.rc('axes', labelsize=MEDIUM_SIZE)    # fontsize of the x and y labels\r\n",
    "plt.rc('xtick', labelsize=SMALL_SIZE)    # fontsize of the tick labels\r\n",
    "plt.rc('ytick', labelsize=SMALL_SIZE)    # fontsize of the tick labels\r\n",
    "plt.rc('legend', fontsize=10)            # legend fontsize\r\n",
    "\r\n",
    "%matplotlib inline"
   ],
   "outputs": [],
   "metadata": {
    "id": "f0xdurWjy2FZ"
   }
  },
  {
   "cell_type": "markdown",
   "source": [
    "### 1.3 PREPARATION: Data Preparation\r\n",
    "There are three different data available (Comment and uncomment accordingly):\r\n",
    "1. NGC725\r\n",
    "2. M67\r\n",
    "3. NGC7789\r\n",
    "\r\n",
    "The data is collected from Gaia Early Data Release 3"
   ],
   "metadata": {
    "id": "qQ24YqamG2gy"
   }
  },
  {
   "cell_type": "code",
   "execution_count": null,
   "source": [
    "DATADIR = \"../dataset/\"\r\n",
    "\r\n",
    "#FILENAME = \"gaiaedr3_180_NGC752\"\r\n",
    "#CLUSTER = \"NGC752\"\r\n",
    "\r\n",
    "FILENAME = \"gaiaedr3_150_M67\"\r\n",
    "CLUSTER = \"M67\"\r\n",
    "\r\n",
    "#FILENAME = \"gaiaedr3_45_NGC7789\"\r\n",
    "#CLUSTER = \"NGC7789\"\r\n",
    "\r\n",
    "OUTPUTDIR = \"../output/\"\r\n",
    "\r\n",
    "datafile = pd.read_csv(DATADIR + FILENAME + \".csv\", delimiter=\",\")\r\n",
    "datafile.head()"
   ],
   "outputs": [],
   "metadata": {
    "colab": {
     "base_uri": "https://localhost:8080/",
     "height": 417
    },
    "executionInfo": {
     "elapsed": 328,
     "status": "error",
     "timestamp": 1628450218702,
     "user": {
      "displayName": "Committee IVC",
      "photoUrl": "",
      "userId": "13628960453021935908"
     },
     "user_tz": -420
    },
    "id": "5v30FWHiGjNT",
    "outputId": "79b1e574-4d54-4f37-b188-41c963e6acc2"
   }
  },
  {
   "cell_type": "markdown",
   "source": [
    "### 1.4 PREPARATION: Handling the missing values "
   ],
   "metadata": {
    "id": "5RQpugMp81Hd"
   }
  },
  {
   "cell_type": "code",
   "execution_count": null,
   "source": [
    "datafile = datafile.dropna(subset=['pmra', 'pmdec', 'parallax']).reset_index()"
   ],
   "outputs": [],
   "metadata": {
    "colab": {
     "base_uri": "https://localhost:8080/",
     "height": 439
    },
    "executionInfo": {
     "elapsed": 12,
     "status": "ok",
     "timestamp": 1627111213941,
     "user": {
      "displayName": "Salma Zahra",
      "photoUrl": "https://lh3.googleusercontent.com/a-/AOh14GiOhalU5s9Gc7ZjGeoJYHAxF0cKybWTvAso5BHsHw=s64",
      "userId": "08028390035877018947"
     },
     "user_tz": -420
    },
    "id": "XXrhCXyRHuN1",
    "outputId": "99a17c08-2369-4e19-83f2-c11004c18890"
   }
  },
  {
   "cell_type": "markdown",
   "source": [
    "To eliminate sources with high uncertainty while still retaining a fraction of sources down to G ∼ 21 mag, we need to select the errors in their G-mag must be less than 0.005. Calculate error of G ($|\\sigma_G|$), $G_{BP}$ ($|\\sigma_{BP}|$), and $G_{RP}$ ($|\\sigma_{RP}|$).\r\n",
    "\r\n",
    "$$\\begin{array}\r\n",
    "|\\sigma_G| &= -\\frac{2.5}{ln \\ 10} \\frac{\\sigma_{F_G}}{F_G} \\\\\r\n",
    "|\\sigma_{BP}| &= -\\frac{2.5}{ln \\ 10} \\frac{\\sigma_{F_{BP}}}{F_{BP}} \\\\\r\n",
    "|\\sigma_{RP}| &= -\\frac{2.5}{ln \\ 10} \\frac{\\sigma_{F_{RP}}}{F_{RP}} \\\\\r\n",
    "\\end{array}$$"
   ],
   "metadata": {
    "id": "e6BINb3uvPRZ"
   }
  },
  {
   "cell_type": "code",
   "execution_count": null,
   "source": [
    "datafile['e_Gmag'] = abs(-2.5*datafile['phot_g_mean_flux_error']/math.log(10)/datafile['phot_g_mean_flux'])\r\n",
    "datafile['e_BPmag'] = abs(-2.5*datafile['phot_bp_mean_flux_error']/math.log(10)/datafile['phot_bp_mean_flux'])\r\n",
    "datafile['e_RPmag'] = abs(-2.5*datafile['phot_rp_mean_flux_error']/math.log(10)/datafile['phot_rp_mean_flux'])"
   ],
   "outputs": [],
   "metadata": {
    "id": "oY12q7nGJe7y"
   }
  },
  {
   "cell_type": "markdown",
   "source": [
    "To make things easier, add the bp_rp and parallax_over_error features."
   ],
   "metadata": {
    "id": "Ai-j7Wwgaa3d"
   }
  },
  {
   "cell_type": "code",
   "execution_count": null,
   "source": [
    "# The color of the star\r\n",
    "# In astronomy, a color is defined as the difference between magnitudes in different pass bands\r\n",
    "datafile['bp_rp'] = datafile['phot_bp_mean_mag'] - datafile['phot_rp_mean_mag']"
   ],
   "outputs": [],
   "metadata": {
    "id": "oXbHZdwWwIBL"
   }
  },
  {
   "cell_type": "markdown",
   "source": [
    "Select data with positive parallax value ($\\omega>0$) and error of G magnitude ($\\sigma_G$) $< 0.005$."
   ],
   "metadata": {
    "id": "2TUbnvdRwPm4"
   }
  },
  {
   "cell_type": "code",
   "execution_count": null,
   "source": [
    "data = datafile[(datafile['parallax'] > 0.) & (datafile['e_Gmag'] < 0.005)].reset_index(drop=True)\r\n",
    "\r\n",
    "del datafile"
   ],
   "outputs": [],
   "metadata": {
    "id": "c6ttI_lPG83v"
   }
  },
  {
   "cell_type": "markdown",
   "source": [
    "## 2 PRIOR VISUALIZATION"
   ],
   "metadata": {
    "id": "WG6dLVeKIVWb"
   }
  },
  {
   "cell_type": "markdown",
   "source": [
    "### 2.1 VISUALIZATION: Spatial Distribution"
   ],
   "metadata": {
    "id": "srUCb3q1Pw5C"
   }
  },
  {
   "cell_type": "code",
   "execution_count": null,
   "source": [
    "fig = plt.figure(figsize=(6, 6))\r\n",
    "plt.plot(data['ra'], data['dec'], ',')\r\n",
    "\r\n",
    "plt.xlabel(r'$\\alpha$ (deg)')\r\n",
    "plt.ylabel(r'$\\delta$ (deg)')\r\n",
    "\r\n",
    "plt.show()"
   ],
   "outputs": [],
   "metadata": {
    "colab": {
     "base_uri": "https://localhost:8080/",
     "height": 400
    },
    "executionInfo": {
     "elapsed": 781,
     "status": "ok",
     "timestamp": 1627111215189,
     "user": {
      "displayName": "Salma Zahra",
      "photoUrl": "https://lh3.googleusercontent.com/a-/AOh14GiOhalU5s9Gc7ZjGeoJYHAxF0cKybWTvAso5BHsHw=s64",
      "userId": "08028390035877018947"
     },
     "user_tz": -420
    },
    "id": "z3C6d-vt-JhC",
    "outputId": "071cea3a-581d-4145-8459-eae697401646"
   }
  },
  {
   "cell_type": "markdown",
   "source": [
    "### 2.2 VISUALIZATION: Vector Point Diagram"
   ],
   "metadata": {
    "id": "eH-gsZUQPzwX"
   }
  },
  {
   "cell_type": "code",
   "execution_count": null,
   "source": [
    "# This is the velocity of stars\r\n",
    "fig = plt.figure(figsize=(6, 6))\r\n",
    "plt.plot(data['pmra'], data['pmdec'], ',')\r\n",
    "\r\n",
    "plt.xlabel(r'$\\mu_{\\alpha*}$ (mas/yr)')\r\n",
    "plt.ylabel(r'$\\mu_{\\delta}$ (mas/yr)')\r\n",
    "\r\n",
    "# Stars in a cluster are expected to move in the same velocity so we focus on a small area\r\n",
    "plt.xlim(-30,30)\r\n",
    "plt.ylim(-30,30)\r\n",
    "\r\n",
    "plt.show()"
   ],
   "outputs": [],
   "metadata": {
    "colab": {
     "base_uri": "https://localhost:8080/",
     "height": 404
    },
    "executionInfo": {
     "elapsed": 912,
     "status": "ok",
     "timestamp": 1627111216098,
     "user": {
      "displayName": "Salma Zahra",
      "photoUrl": "https://lh3.googleusercontent.com/a-/AOh14GiOhalU5s9Gc7ZjGeoJYHAxF0cKybWTvAso5BHsHw=s64",
      "userId": "08028390035877018947"
     },
     "user_tz": -420
    },
    "id": "Jn1gnn43IrRM",
    "outputId": "de3fd1b7-260f-4638-95ff-7b45e150bb88"
   }
  },
  {
   "cell_type": "markdown",
   "source": [
    "### 2.3 VISUALIZATION: Color Magnitude Diagram"
   ],
   "metadata": {
    "id": "AXHWtlckP4CH"
   }
  },
  {
   "cell_type": "code",
   "execution_count": null,
   "source": [
    "fig = plt.figure(figsize=(6, 8))\r\n",
    "plt.plot(data['bp_rp'], data['phot_g_mean_mag'], ',')\r\n",
    "\r\n",
    "ax = plt.gca()\r\n",
    "ax.invert_yaxis()\r\n",
    "plt.xlim(0., 3.)\r\n",
    "\r\n",
    "plt.xlabel('bp - rp') # Color\r\n",
    "plt.ylabel('g') # Magnitude\r\n",
    "\r\n",
    "#This is a color-magnitude diagram (A type of HR Diagram)\r\n",
    "plt.show()"
   ],
   "outputs": [],
   "metadata": {
    "colab": {
     "base_uri": "https://localhost:8080/",
     "height": 508
    },
    "executionInfo": {
     "elapsed": 20,
     "status": "ok",
     "timestamp": 1627111216099,
     "user": {
      "displayName": "Salma Zahra",
      "photoUrl": "https://lh3.googleusercontent.com/a-/AOh14GiOhalU5s9Gc7ZjGeoJYHAxF0cKybWTvAso5BHsHw=s64",
      "userId": "08028390035877018947"
     },
     "user_tz": -420
    },
    "id": "-H83n76WIOkN",
    "outputId": "90a7e3dc-ddae-43bd-be9e-df3da159d3a4"
   }
  },
  {
   "cell_type": "markdown",
   "source": [
    "## 3 HDBSCAN\r\n",
    "Hierarchichal Density--Based Spatial Clustering of Applications with Noise (HDBSCAN) uses the density of points to determine the membership of a cluster."
   ],
   "metadata": {
    "id": "oik2vqrQgT71"
   }
  },
  {
   "cell_type": "markdown",
   "source": [
    "### 3.1 HDBSCAN: Preparing the data\r\n",
    "We are using the points on the **proper motion along the right ascension**, **proper motion along the declination** and the **parallax of each star** to determine their membership. Each star in a cluster is expected to have the same points for these three data."
   ],
   "metadata": {
    "id": "j8_7k0HBxVAX"
   }
  },
  {
   "cell_type": "code",
   "execution_count": null,
   "source": [
    "# We feed HDBSCAN to calculate the clustering based on these parameters\r\n",
    "df = data[[\"pmra\", \"pmdec\", \"parallax\"]] # pm = proper motion along those directions\r\n",
    "df = df.to_numpy().astype(\"float32\", copy = False)\r\n",
    "\r\n",
    "# Normalizing the data\r\n",
    "stscaler_df = StandardScaler().fit(df)\r\n",
    "df_ = stscaler_df.transform(df)"
   ],
   "outputs": [],
   "metadata": {}
  },
  {
   "cell_type": "markdown",
   "source": [
    "### 3.2 HDBSCAN: Run HDBSCAN"
   ],
   "metadata": {
    "id": "q317U1WhNGIm"
   }
  },
  {
   "cell_type": "code",
   "execution_count": null,
   "source": [
    "clus_size = 2 * df_.shape[1]\r\n",
    "\r\n",
    "clusterer = hdbscan.HDBSCAN(clus_size)\r\n",
    "cluster_labels = clusterer.fit_predict(df_)\r\n",
    "\r\n",
    "data['hdbscan'] = cluster_labels\r\n",
    "\r\n",
    "del df, df_, cluster_labels"
   ],
   "outputs": [],
   "metadata": {
    "id": "0QfePZaoNdZf"
   }
  },
  {
   "cell_type": "markdown",
   "source": [
    "### 3.3 HDBSCAN: Check\r\n",
    "Check each clustering result. The color bar in the image shows the label of each cluster obtained."
   ],
   "metadata": {
    "id": "7xl7nFs4a7RV"
   }
  },
  {
   "cell_type": "code",
   "execution_count": null,
   "source": [
    "fig, ax = plt.subplots(figsize=(6,6))\r\n",
    "gr = ax.scatter(data['pmra'], data['pmdec'], s=10, c=data['hdbscan'])#, edgecolor='')\r\n",
    "\r\n",
    "fig.colorbar(gr, ax=ax)\r\n",
    "ax = plt.gca()\r\n",
    "ax.invert_yaxis()\r\n",
    "plt.xlim(-30,30)\r\n",
    "plt.ylim(-30,30)\r\n",
    "\r\n",
    "plt.xlabel(r'$\\mu_{\\alpha*}$ (mas/yr)')\r\n",
    "plt.ylabel(r'$\\mu_{\\delta}$ (mas/yr)')\r\n",
    "\r\n",
    "plt.show()"
   ],
   "outputs": [],
   "metadata": {
    "colab": {
     "base_uri": "https://localhost:8080/",
     "height": 458
    },
    "executionInfo": {
     "elapsed": 1730,
     "status": "ok",
     "timestamp": 1627111232916,
     "user": {
      "displayName": "Salma Zahra",
      "photoUrl": "https://lh3.googleusercontent.com/a-/AOh14GiOhalU5s9Gc7ZjGeoJYHAxF0cKybWTvAso5BHsHw=s64",
      "userId": "08028390035877018947"
     },
     "user_tz": -420
    },
    "id": "qqSRnl3BZEbg",
    "outputId": "ed309925-be9d-4ed1-ddc2-1dd8112a30cb"
   }
  },
  {
   "cell_type": "markdown",
   "source": [
    "Distribution of group labels of all data."
   ],
   "metadata": {
    "id": "gE1t8vfibLvi"
   }
  },
  {
   "cell_type": "code",
   "execution_count": null,
   "source": [
    "plt.figure(figsize=(6, 4))\r\n",
    "plt.hist(data['hdbscan'])\r\n",
    "\r\n",
    "plt.xlabel('Label of Cluster')\r\n",
    "plt.ylabel('Number of Sources')\r\n",
    "\r\n",
    "plt.show()"
   ],
   "outputs": [],
   "metadata": {
    "colab": {
     "base_uri": "https://localhost:8080/",
     "height": 286
    },
    "executionInfo": {
     "elapsed": 31,
     "status": "ok",
     "timestamp": 1627111232917,
     "user": {
      "displayName": "Salma Zahra",
      "photoUrl": "https://lh3.googleusercontent.com/a-/AOh14GiOhalU5s9Gc7ZjGeoJYHAxF0cKybWTvAso5BHsHw=s64",
      "userId": "08028390035877018947"
     },
     "user_tz": -420
    },
    "id": "WfjSWmwgaPNV",
    "outputId": "f82afd78-83ea-4581-ab01-a51d440a0a41"
   }
  },
  {
   "cell_type": "markdown",
   "source": [
    "The number of members from each clustering result."
   ],
   "metadata": {
    "id": "nUeHDJoHbzXE"
   }
  },
  {
   "cell_type": "code",
   "execution_count": null,
   "source": [
    "data['hdbscan'].value_counts()"
   ],
   "outputs": [],
   "metadata": {
    "colab": {
     "base_uri": "https://localhost:8080/"
    },
    "executionInfo": {
     "elapsed": 666,
     "status": "ok",
     "timestamp": 1627111233554,
     "user": {
      "displayName": "Salma Zahra",
      "photoUrl": "https://lh3.googleusercontent.com/a-/AOh14GiOhalU5s9Gc7ZjGeoJYHAxF0cKybWTvAso5BHsHw=s64",
      "userId": "08028390035877018947"
     },
     "user_tz": -420
    },
    "id": "MCUmIEKxaXIF",
    "outputId": "729628ad-e829-4b73-d39d-b36f2a0a3482"
   }
  },
  {
   "cell_type": "markdown",
   "source": [
    "### 3.4 HDBSCAN: Cleaning\r\n",
    "\r\n",
    "Separate the data with a label that shows the background data (`label = -1`)."
   ],
   "metadata": {
    "id": "bwCWYhwAb8oh"
   }
  },
  {
   "cell_type": "code",
   "execution_count": null,
   "source": [
    "result_hdbscan = data[data['hdbscan'] >= 0].reset_index(drop=True)\r\n",
    "\r\n",
    "c = result_hdbscan['hdbscan'].value_counts()\r\n",
    "del result_hdbscan"
   ],
   "outputs": [],
   "metadata": {
    "id": "zz2-7KzwtYYg"
   }
  },
  {
   "cell_type": "markdown",
   "source": [
    "Find the cluster with the most number. Assuming the data used only consists of the background and one stellar cluster."
   ],
   "metadata": {
    "id": "VukyZdafcK__"
   }
  },
  {
   "cell_type": "code",
   "execution_count": null,
   "source": [
    "n_max = c.index[np.argmax(c)]\r\n",
    "del c\r\n",
    "\r\n",
    "result = data[data['hdbscan'] == n_max]\r\n",
    "result.to_csv(OUTPUTDIR + \"results_\" + CLUSTER + \".csv\", index=False)"
   ],
   "outputs": [],
   "metadata": {
    "id": "BkZ1p_woKPuF"
   }
  },
  {
   "cell_type": "markdown",
   "source": [
    "## 4 RESULTS VISUALIZATION"
   ],
   "metadata": {
    "id": "9kW2iOdWchLK"
   }
  },
  {
   "cell_type": "markdown",
   "source": [
    "### 4.1 RESULTS: Spatial Distribution\r\n",
    "The location of each stars in a cluster should not be far from each other."
   ],
   "metadata": {
    "id": "sIW3Qf95QnQO"
   }
  },
  {
   "cell_type": "code",
   "execution_count": null,
   "source": [
    "fig = plt.figure(figsize=(6, 6))\r\n",
    "ax = plt.subplot()\r\n",
    "plt.plot(data['ra'], data['dec'], '.', mec='silver', mfc='darkgray', markersize=1., label=\"All sources\")\r\n",
    "plt.plot(result['ra'], result['dec'], 'o', mfc='tab:orange', markersize=2., label=\"HDBSCAN\")\r\n",
    "\r\n",
    "plt.xlabel(r'$\\alpha$ (deg)')\r\n",
    "plt.ylabel(r'$\\delta$ (deg)')\r\n",
    "plt.legend()\r\n",
    "plt.title(\"Spatial distribution of \" + CLUSTER + \" star cluster\")\r\n",
    "plt.savefig(OUTPUTDIR + FILENAME + \"_spatial.png\")\r\n",
    "plt.show()"
   ],
   "outputs": [],
   "metadata": {
    "colab": {
     "base_uri": "https://localhost:8080/",
     "height": 400
    },
    "executionInfo": {
     "elapsed": 1603,
     "status": "ok",
     "timestamp": 1627111391417,
     "user": {
      "displayName": "Salma Zahra",
      "photoUrl": "https://lh3.googleusercontent.com/a-/AOh14GiOhalU5s9Gc7ZjGeoJYHAxF0cKybWTvAso5BHsHw=s64",
      "userId": "08028390035877018947"
     },
     "user_tz": -420
    },
    "id": "_pyMiYNNyC0Q",
    "outputId": "d390b634-745d-4c59-bb2d-d9e2c460a20b"
   }
  },
  {
   "cell_type": "markdown",
   "source": [
    "### 4.2 RESULTS: Vector Point Diagram\r\n",
    "Stars in a cluster is expected to move in the same velocity"
   ],
   "metadata": {
    "id": "7PRh2J5QQrhR"
   }
  },
  {
   "cell_type": "code",
   "execution_count": null,
   "source": [
    "fig = plt.figure(figsize=(6, 6))\r\n",
    "plt.plot(data['pmra'], data['pmdec'], '.', mec='silver', mfc='darkgray', markersize=5., label=\"All sources\")\r\n",
    "plt.plot(result['pmra'], result['pmdec'], 'o', mfc='tab:orange', mec='None', markersize=5., label=\"HDBSCAN\")\r\n",
    "\r\n",
    "plt.xlabel(r'$\\mu_{\\alpha*}$ (mas/yr)')\r\n",
    "plt.ylabel(r'$\\mu_{\\delta}$ (mas/yr)')\r\n",
    "\r\n",
    "plt.xticks()\r\n",
    "plt.yticks()\r\n",
    "\r\n",
    "XMED = np.median(result['pmra'])\r\n",
    "YMED = np.median(result['pmdec'])\r\n",
    "\r\n",
    "XVAR = np.median(abs(result['pmra']-XMED))\r\n",
    "YVAR = np.median(abs(result['pmdec']-YMED))\r\n",
    "\r\n",
    "VAR = (XVAR + YVAR)/2\r\n",
    "\r\n",
    "plt.xlim(XMED+6*VAR,XMED-6*VAR)\r\n",
    "plt.ylim(YMED+6*VAR,YMED-6*VAR)\r\n",
    "\r\n",
    "del XMED, XVAR, YMED, YVAR, VAR\r\n",
    "\r\n",
    "plt.legend()\r\n",
    "plt.title(\"Vector Point Diagram of \" + CLUSTER + \" star cluster\")\r\n",
    "\r\n",
    "plt.savefig(OUTPUTDIR + FILENAME + \"_vector_point.png\")\r\n",
    "plt.show()"
   ],
   "outputs": [],
   "metadata": {
    "colab": {
     "base_uri": "https://localhost:8080/",
     "height": 404
    },
    "executionInfo": {
     "elapsed": 1287,
     "status": "ok",
     "timestamp": 1627111498975,
     "user": {
      "displayName": "Salma Zahra",
      "photoUrl": "https://lh3.googleusercontent.com/a-/AOh14GiOhalU5s9Gc7ZjGeoJYHAxF0cKybWTvAso5BHsHw=s64",
      "userId": "08028390035877018947"
     },
     "user_tz": -420
    },
    "id": "olc7KGK8KqS1",
    "outputId": "cfe1f392-5ea2-44b8-d46e-ed48efed8c0e"
   }
  },
  {
   "cell_type": "markdown",
   "source": [
    "### 4.3 RESULTS: Color Magnitude Diagram\r\n",
    "A cluster of stars is expected to follow the pattern from HR Diagram"
   ],
   "metadata": {
    "id": "cMiRziSlRI-s"
   }
  },
  {
   "cell_type": "code",
   "execution_count": null,
   "source": [
    "plt.figure(figsize=(6, 8))\r\n",
    "plt.plot(data['bp_rp'], data['phot_g_mean_mag'], '.', mec='silver', mfc='darkgray', markersize=2., label=\"All sources\")\r\n",
    "plt.plot(result['bp_rp'], result['phot_g_mean_mag'], 'o', color='tab:orange', markersize=2., label=r\"HDBSCAN\")\r\n",
    "\r\n",
    "plt.xlabel(r'$G_{BP}-G_{RP}$')\r\n",
    "plt.ylabel(r'$G$ (mag)')\r\n",
    "\r\n",
    "plt.xlim(0., 3.)\r\n",
    "plt.gca().invert_yaxis()\r\n",
    "plt.legend()\r\n",
    "plt.title(\"Color Magnitude Diagram of \"+ CLUSTER + \" star cluster\")\r\n",
    "\r\n",
    "plt.savefig(OUTPUTDIR + FILENAME + \"_color_magnitude.png\")\r\n",
    "plt.show()"
   ],
   "outputs": [],
   "metadata": {
    "colab": {
     "base_uri": "https://localhost:8080/",
     "height": 246
    },
    "executionInfo": {
     "elapsed": 8,
     "status": "error",
     "timestamp": 1628166817244,
     "user": {
      "displayName": "Committee IVC",
      "photoUrl": "",
      "userId": "13628960453021935908"
     },
     "user_tz": -420
    },
    "id": "xq42czv6K4Aa",
    "outputId": "a4f46479-eff3-4c4f-c4d0-3012ae317fea"
   }
  },
  {
   "cell_type": "markdown",
   "source": [
    "### 4.4 RESULTS: Parallax Distribution\r\n",
    "A cluster of stars is expected to be close together (i.e. have the same parallax)"
   ],
   "metadata": {
    "id": "o1jL3LJrRLix"
   }
  },
  {
   "cell_type": "code",
   "execution_count": null,
   "source": [
    "bins_all = np.arange(data['parallax'].min(), data['parallax'].max(), .01)\r\n",
    "bins_sam = np.arange(result['parallax'].min(), result['parallax'].max(), .01)"
   ],
   "outputs": [],
   "metadata": {
    "id": "rZate-HY_vW6"
   }
  },
  {
   "cell_type": "code",
   "execution_count": null,
   "source": [
    "plt.figure(figsize=(6, 4))\r\n",
    "data.parallax.hist(bins=bins_all, color='gray', label=\"All Sources\")\r\n",
    "result.parallax.hist(bins=bins_sam, color='orange', label=\"HDBSCAN\")\r\n",
    "\r\n",
    "plt.xlabel(r'$\\omega$ (mas)')\r\n",
    "plt.ylabel('Number of Sources')\r\n",
    "\r\n",
    "plt.xlim(0, 5)\r\n",
    "\r\n",
    "plt.xticks()\r\n",
    "plt.yticks()\r\n",
    "\r\n",
    "plt.legend()\r\n",
    "plt.title(\"Parallax Distribution of \" + CLUSTER + \" star cluster\")\r\n",
    "\r\n",
    "plt.savefig(OUTPUTDIR + FILENAME + \"_parallax_dist.png\")\r\n",
    "plt.show()"
   ],
   "outputs": [],
   "metadata": {
    "id": "8kAn5W_JTebG"
   }
  },
  {
   "cell_type": "markdown",
   "source": [
    "## 5 ADDITIONAL TASKS"
   ],
   "metadata": {
    "id": "x_ObgVv0xAF6"
   }
  },
  {
   "cell_type": "markdown",
   "source": [
    "### 5.1 Determine the center of the stellar cluster"
   ],
   "metadata": {
    "id": "WV9AHA85ifPX"
   }
  },
  {
   "cell_type": "code",
   "execution_count": null,
   "source": [
    "ra_c    = np.median(result['ra'])\r\n",
    "dec_c   = np.median(result['dec'])\r\n",
    "pmra_c  = np.median(result['pmra'])\r\n",
    "pmdec_c = np.median(result['pmdec'])\r\n",
    "\r\n",
    "fig = plt.figure(figsize=(6, 6))\r\n",
    "ax = plt.subplot()\r\n",
    "plt.plot(data['ra'], data['dec'], '.', mec='silver', mfc='darkgray', markersize=1., label=\"All sources\")\r\n",
    "plt.plot(result['ra'], result['dec'], 'o', mfc='tab:orange', markersize=2., label=\"HDBSCAN\")\r\n",
    "plt.plot(ra_c, dec_c, 'x')\r\n",
    "\r\n",
    "plt.xlabel(r'$\\alpha$ (deg)')\r\n",
    "plt.ylabel(r'$\\delta$ (deg)')\r\n",
    "plt.legend()\r\n",
    "plt.show()"
   ],
   "outputs": [],
   "metadata": {
    "id": "i8ETPro5k0z_"
   }
  },
  {
   "cell_type": "markdown",
   "source": [
    "### 5.2 The velocity of the center of cluster"
   ],
   "metadata": {}
  },
  {
   "cell_type": "code",
   "execution_count": null,
   "source": [
    "fig = plt.figure(figsize=(6, 6))\r\n",
    "plt.plot(data['pmra'], data['pmdec'], '.', mec='silver', mfc='darkgray', markersize=5., label=\"All sources\")\r\n",
    "plt.plot(result['pmra'], result['pmdec'], 'o', mfc='tab:orange', mec='None', markersize=5., label=\"HDBSCAN\")\r\n",
    "plt.plot(pmra_c, pmdec_c, '+')\r\n",
    "\r\n",
    "plt.xlabel(r'$\\mu_{\\alpha*}$ (mas/yr)')\r\n",
    "plt.ylabel(r'$\\mu_{\\delta}$ (mas/yr)')\r\n",
    "\r\n",
    "plt.xticks()\r\n",
    "plt.yticks()\r\n",
    "\r\n",
    "XMED = np.median(result['pmra'])\r\n",
    "YMED = np.median(result['pmdec'])\r\n",
    "\r\n",
    "XVAR = np.median(abs(result['pmra']-XMED))\r\n",
    "YVAR = np.median(abs(result['pmdec']-YMED))\r\n",
    "\r\n",
    "VAR = (XVAR + YVAR)/2\r\n",
    "\r\n",
    "plt.xlim(XMED+6*VAR,XMED-6*VAR)\r\n",
    "plt.ylim(YMED+6*VAR,YMED-6*VAR)\r\n",
    "\r\n",
    "del XMED, XVAR, YMED, YVAR, VAR\r\n",
    "\r\n",
    "plt.legend()\r\n",
    "plt.show()"
   ],
   "outputs": [],
   "metadata": {}
  },
  {
   "cell_type": "markdown",
   "source": [
    "## 6. References\r\n",
    "Below is a list of references used by the lecturer"
   ],
   "metadata": {
    "id": "HjwYpAVl2naX"
   }
  },
  {
   "cell_type": "markdown",
   "source": [
    "1. Agarwal, Manan, et al. \"ML-MOC: Machine Learning (kNN and GMM) based Membership determination for Open Clusters.\" Monthly Notices of the Royal Astronomical Society 502.2 (2021): 2582-2599.\n",
    "2. Campello, Ricardo JGB, et al. \"Hierarchical density estimates for data clustering, visualization, and outlier detection.\" ACM Transactions on Knowledge Discovery from Data (TKDD) 10.1 (2015): 1-51.\n",
    "3. Chen, W. P., C. W. Chen, and C. G. Shu. \"Morphology of Galactic open clusters.\" The Astronomical Journal 128.5 (2004): 2306.\n",
    "4. Ester, Martin, et al. \"A density-based algorithm for discovering clusters in large spatial databases with noise.\" kdd. Vol. 96. No. 34. 1996.\n",
    "5. Gaia Collaboration. \"VizieR Online Data Catalog: Gaia DR2 (Gaia Collaboration, 2018).\" VizieR Online Data Catalog (2018): I-345.\n",
    "6. Kounkel, Marina, and Kevin Covey. \"Untangling the Galaxy. I. Local Structure and Star Formation History of the Milky Way.\" The Astronomical Journal 158.3 (2019): 122.\n",
    "7. McInnes, Leland, John Healy, and Steve Astels. \"hdbscan: Hierarchical density based clustering.\" Journal of Open Source Software 2.11 (2017): 205.\n",
    "8. Pedregosa, Fabian, et al. \"Scikit-learn: Machine learning in Python.\" the Journal of machine Learning research 12 (2011): 2825-2830.\n",
    "\n",
    "\n",
    "\n",
    "\n",
    "\n",
    "\n",
    "\n",
    "\n",
    "\n",
    "\n"
   ],
   "metadata": {
    "id": "nMCCp8lJ3M6A"
   }
  }
 ],
 "metadata": {
  "colab": {
   "collapsed_sections": [],
   "name": "day06_handson_hdbscan.ipynb",
   "provenance": []
  },
  "kernelspec": {
   "name": "python3",
   "display_name": "Python 3.8.11 64-bit ('astro38': conda)"
  },
  "language_info": {
   "codemirror_mode": {
    "name": "ipython",
    "version": 3
   },
   "file_extension": ".py",
   "mimetype": "text/x-python",
   "name": "python",
   "nbconvert_exporter": "python",
   "pygments_lexer": "ipython3",
   "version": "3.8.11"
  },
  "interpreter": {
   "hash": "6921fea84aceb50869300d2e94a8089a90c6a4245a658496e61a3916aa7c9b2b"
  }
 },
 "nbformat": 4,
 "nbformat_minor": 1
}